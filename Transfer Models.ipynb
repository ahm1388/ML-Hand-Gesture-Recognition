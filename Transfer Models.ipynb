{
 "cells": [
  {
   "cell_type": "markdown",
   "metadata": {},
   "source": [
    "**VGG16 Model** "
   ]
  },
  {
   "cell_type": "code",
   "execution_count": 1,
   "metadata": {},
   "outputs": [
    {
     "name": "stderr",
     "output_type": "stream",
     "text": [
      "Using TensorFlow backend.\n"
     ]
    }
   ],
   "source": [
    "import numpy as np  \n",
    "from keras.preprocessing.image import ImageDataGenerator, img_to_array, load_img  \n",
    "from keras.models import Sequential  \n",
    "from keras.layers import Dropout, Flatten, Dense  \n",
    "from keras import applications  \n",
    "from keras.utils.np_utils import to_categorical  \n",
    "import matplotlib.pyplot as plt  \n",
    "import math  \n",
    "import cv2  "
   ]
  },
  {
   "cell_type": "code",
   "execution_count": 2,
   "metadata": {},
   "outputs": [],
   "source": [
    "# dimensions of our images. I reduced the dimensions to speed up the model training and because this resolution still yields high accuracy  \n",
    "\n",
    "img_width, img_height = 150, 75  \n",
    "   \n",
    "top_model_weights_path = 'bottleneck_fc_model.h5'  \n",
    "train_data_dir = 'C:/Users/a_m_9/OneDrive/Documents/Machine Learning/Capstone/leapGestRecog/Training Set'   \n",
    "test_data_dir = 'C:/Users/a_m_9/OneDrive/Documents/Machine Learning/Capstone/leapGestRecog/Testing Set'  \n",
    "   \n",
    "# number of epochs to train top model  \n",
    "epochs = 20  \n",
    "# batch size used by flow_from_directory and predict_generator  \n",
    "batch_size = 16  "
   ]
  },
  {
   "cell_type": "code",
   "execution_count": 3,
   "metadata": {},
   "outputs": [
    {
     "name": "stdout",
     "output_type": "stream",
     "text": [
      "WARNING:tensorflow:From C:\\Users\\a_m_9\\Anaconda3\\lib\\site-packages\\tensorflow\\python\\framework\\op_def_library.py:263: colocate_with (from tensorflow.python.framework.ops) is deprecated and will be removed in a future version.\n",
      "Instructions for updating:\n",
      "Colocations handled automatically by placer.\n"
     ]
    }
   ],
   "source": [
    "vgg16 = applications.VGG16(include_top=False, weights='imagenet')  "
   ]
  },
  {
   "cell_type": "code",
   "execution_count": 4,
   "metadata": {},
   "outputs": [
    {
     "name": "stdout",
     "output_type": "stream",
     "text": [
      "Found 18000 images belonging to 10 classes.\n",
      "1125/1125 [==============================] - 1584s 1s/step\n"
     ]
    }
   ],
   "source": [
    "datagen = ImageDataGenerator(rescale=1. / 255)  \n",
    "   \n",
    "generator = datagen.flow_from_directory(  \n",
    "     train_data_dir,  \n",
    "     target_size=(img_width, img_height),  \n",
    "     batch_size=batch_size,  \n",
    "     class_mode=None,  \n",
    "     shuffle=False)  \n",
    "   \n",
    "nb_train_samples = len(generator.filenames)  \n",
    "num_classes = len(generator.class_indices)  \n",
    "   \n",
    "predict_size_train = int(math.ceil(nb_train_samples / batch_size))  \n",
    "   \n",
    "bottleneck_features_train = vgg16.predict_generator(  \n",
    "    generator, predict_size_train, verbose = 1)  \n",
    " \n",
    "np.save('vgg16_bottleneck_features_train.npy', bottleneck_features_train)  "
   ]
  },
  {
   "cell_type": "code",
   "execution_count": 5,
   "metadata": {},
   "outputs": [
    {
     "name": "stdout",
     "output_type": "stream",
     "text": [
      "Found 2000 images belonging to 10 classes.\n",
      "125/125 [==============================] - 179s 1s/step\n"
     ]
    }
   ],
   "source": [
    "generator = datagen.flow_from_directory(  \n",
    "    test_data_dir,  \n",
    "    target_size=(img_width, img_height),  \n",
    "    batch_size=batch_size,  \n",
    "    class_mode=None,  \n",
    "    shuffle=False)  \n",
    "   \n",
    "nb_test_samples = len(generator.filenames)  \n",
    "   \n",
    "predict_size_test = int(math.ceil(nb_test_samples / batch_size))  \n",
    "   \n",
    "bottleneck_features_test = vgg16.predict_generator(  \n",
    "     generator, predict_size_test, verbose = 1)  \n",
    "   \n",
    "np.save('vgg16_bottleneck_features_test.npy', bottleneck_features_test)  "
   ]
  },
  {
   "cell_type": "code",
   "execution_count": 6,
   "metadata": {},
   "outputs": [
    {
     "name": "stdout",
     "output_type": "stream",
     "text": [
      "Found 18000 images belonging to 10 classes.\n"
     ]
    }
   ],
   "source": [
    "datagen_top = ImageDataGenerator(rescale=1./255)  \n",
    "generator_top = datagen_top.flow_from_directory(  \n",
    "        train_data_dir,  \n",
    "        target_size=(img_width, img_height),  \n",
    "        batch_size=batch_size,  \n",
    "        class_mode='categorical',  \n",
    "        shuffle=False)  \n",
    "   \n",
    "nb_train_samples = len(generator_top.filenames)  \n",
    "num_classes = len(generator_top.class_indices)  \n",
    "   \n",
    "# load the bottleneck features saved earlier  \n",
    "train_data = np.load('vgg16_bottleneck_features_train.npy')  \n",
    "   \n",
    "# get the class lebels for the training data, in the original order  \n",
    "train_labels = generator_top.classes  \n",
    "   \n",
    "# convert the training labels to categorical vectors  \n",
    "train_labels = to_categorical(train_labels, num_classes=num_classes) "
   ]
  },
  {
   "cell_type": "code",
   "execution_count": 7,
   "metadata": {},
   "outputs": [
    {
     "name": "stdout",
     "output_type": "stream",
     "text": [
      "Found 2000 images belonging to 10 classes.\n"
     ]
    }
   ],
   "source": [
    "generator_top = datagen_top.flow_from_directory(  \n",
    "        test_data_dir,  \n",
    "        target_size=(img_width, img_height),  \n",
    "        batch_size=batch_size,  \n",
    "        class_mode=None,  \n",
    "        shuffle=False)  \n",
    "   \n",
    "nb_test_samples = len(generator_top.filenames)  \n",
    "   \n",
    "test_data = np.load('vgg16_bottleneck_features_test.npy')  \n",
    "   \n",
    "test_labels = generator_top.classes  \n",
    "test_labels = to_categorical(test_labels, num_classes=num_classes)  "
   ]
  },
  {
   "cell_type": "code",
   "execution_count": 8,
   "metadata": {},
   "outputs": [],
   "source": [
    "import random\n",
    "\n",
    "# We shuffle the data so that the validation split is able to represent a truly random sample of the data\n",
    "idx = np.random.permutation(len(train_data))\n",
    "train_data,train_labels = train_data[idx], train_labels[idx]"
   ]
  },
  {
   "cell_type": "code",
   "execution_count": 9,
   "metadata": {
    "scrolled": false
   },
   "outputs": [
    {
     "name": "stdout",
     "output_type": "stream",
     "text": [
      "WARNING:tensorflow:From C:\\Users\\a_m_9\\Anaconda3\\lib\\site-packages\\keras\\backend\\tensorflow_backend.py:3445: calling dropout (from tensorflow.python.ops.nn_ops) with keep_prob is deprecated and will be removed in a future version.\n",
      "Instructions for updating:\n",
      "Please use `rate` instead of `keep_prob`. Rate should be set to `rate = 1 - keep_prob`.\n",
      "WARNING:tensorflow:From C:\\Users\\a_m_9\\Anaconda3\\lib\\site-packages\\tensorflow\\python\\ops\\math_ops.py:3066: to_int32 (from tensorflow.python.ops.math_ops) is deprecated and will be removed in a future version.\n",
      "Instructions for updating:\n",
      "Use tf.cast instead.\n",
      "Train on 16200 samples, validate on 1800 samples\n",
      "Epoch 1/20\n",
      "16200/16200 [==============================] - 24s 1ms/step - loss: 0.1941 - acc: 0.9435 - val_loss: 0.1241 - val_acc: 0.9856\n",
      "\n",
      "Epoch 00001: val_loss improved from inf to 0.12411, saving model to C:/Users/a_m_9/OneDrive/Documents/Machine Learning/Capstone/weights.best.from_vgg16.hdf5\n",
      "Epoch 2/20\n",
      "16200/16200 [==============================] - 25s 2ms/step - loss: 0.0551 - acc: 0.9849 - val_loss: 0.0370 - val_acc: 0.9867\n",
      "\n",
      "Epoch 00002: val_loss improved from 0.12411 to 0.03697, saving model to C:/Users/a_m_9/OneDrive/Documents/Machine Learning/Capstone/weights.best.from_vgg16.hdf5\n",
      "Epoch 3/20\n",
      "16200/16200 [==============================] - 23s 1ms/step - loss: 0.0501 - acc: 0.9864 - val_loss: 0.0990 - val_acc: 0.9867\n",
      "\n",
      "Epoch 00003: val_loss did not improve from 0.03697\n",
      "Epoch 4/20\n",
      "16200/16200 [==============================] - 23s 1ms/step - loss: 0.0454 - acc: 0.9866 - val_loss: 0.0939 - val_acc: 0.9700\n",
      "\n",
      "Epoch 00004: val_loss did not improve from 0.03697\n",
      "Epoch 5/20\n",
      "16200/16200 [==============================] - 23s 1ms/step - loss: 0.0381 - acc: 0.9869 - val_loss: 0.0318 - val_acc: 0.9872\n",
      "\n",
      "Epoch 00005: val_loss improved from 0.03697 to 0.03182, saving model to C:/Users/a_m_9/OneDrive/Documents/Machine Learning/Capstone/weights.best.from_vgg16.hdf5\n",
      "Epoch 6/20\n",
      "16200/16200 [==============================] - 23s 1ms/step - loss: 0.0404 - acc: 0.9869 - val_loss: 0.0436 - val_acc: 0.9878\n",
      "\n",
      "Epoch 00006: val_loss did not improve from 0.03182\n",
      "Epoch 7/20\n",
      "16200/16200 [==============================] - 23s 1ms/step - loss: 0.0403 - acc: 0.9879 - val_loss: 0.0185 - val_acc: 0.9883\n",
      "\n",
      "Epoch 00007: val_loss improved from 0.03182 to 0.01849, saving model to C:/Users/a_m_9/OneDrive/Documents/Machine Learning/Capstone/weights.best.from_vgg16.hdf5\n",
      "Epoch 8/20\n",
      "16200/16200 [==============================] - 25s 2ms/step - loss: 0.0359 - acc: 0.9875 - val_loss: 0.0506 - val_acc: 0.9872\n",
      "\n",
      "Epoch 00008: val_loss did not improve from 0.01849\n",
      "Epoch 9/20\n",
      "16200/16200 [==============================] - 25s 2ms/step - loss: 0.0335 - acc: 0.9891 - val_loss: 0.0446 - val_acc: 0.9872\n",
      "\n",
      "Epoch 00009: val_loss did not improve from 0.01849\n",
      "Epoch 10/20\n",
      "16200/16200 [==============================] - 24s 2ms/step - loss: 0.0321 - acc: 0.9888 - val_loss: 0.0188 - val_acc: 0.9867\n",
      "\n",
      "Epoch 00010: val_loss did not improve from 0.01849\n",
      "Epoch 11/20\n",
      "16200/16200 [==============================] - 27s 2ms/step - loss: 0.0328 - acc: 0.9888 - val_loss: 0.0322 - val_acc: 0.9883\n",
      "\n",
      "Epoch 00011: val_loss did not improve from 0.01849\n",
      "Epoch 12/20\n",
      "16200/16200 [==============================] - 26s 2ms/step - loss: 0.0312 - acc: 0.9890 - val_loss: 0.0274 - val_acc: 0.9878\n",
      "\n",
      "Epoch 00012: val_loss did not improve from 0.01849\n",
      "Epoch 13/20\n",
      "16200/16200 [==============================] - 24s 1ms/step - loss: 0.0273 - acc: 0.9883 - val_loss: 0.0208 - val_acc: 0.9883\n",
      "\n",
      "Epoch 00020: val_loss did not improve from 0.01801\n",
      "2000/2000 [==============================] - 0s 145us/step\n",
      "[INFO] accuracy: 89.90%\n",
      "[INFO] Loss: 1.4799488880362497\n"
     ]
    }
   ],
   "source": [
    "from keras.callbacks import ModelCheckpoint  \n",
    "    \n",
    "vgg16_model = Sequential()  \n",
    "vgg16_model.add(Flatten(input_shape=train_data.shape[1:]))  \n",
    "vgg16_model.add(Dense(512, activation='relu'))  \n",
    "vgg16_model.add(Dropout(0.3))  \n",
    "vgg16_model.add(Dense(num_classes, activation='softmax'))  \n",
    "   \n",
    "vgg16_model.compile(optimizer='rmsprop', loss='categorical_crossentropy', metrics=['accuracy'])  \n",
    " \n",
    "checkpointer = ModelCheckpoint(filepath='C:/Users/a_m_9/OneDrive/Documents/Machine Learning/Capstone/weights.best.from_vgg16.hdf5', \n",
    "                              verbose=1, save_best_only=True)   \n",
    "\n",
    "\n",
    "history = vgg16_model.fit(train_data, train_labels,  \n",
    "         epochs=epochs,  \n",
    "         batch_size=batch_size,\n",
    "         callbacks=[checkpointer],\n",
    "         validation_split = 0.1)  \n",
    "  \n",
    "vgg16_model.save_weights(top_model_weights_path)  \n",
    "   \n",
    "(test_loss, test_accuracy) = vgg16_model.evaluate(  \n",
    "    test_data, test_labels, batch_size = batch_size, verbose=1)\n",
    "\n",
    "print(\"[INFO] accuracy: {:.2f}%\".format(test_accuracy * 100))  \n",
    "print(\"[INFO] Loss: {}\".format(test_loss))"
   ]
  },
  {
   "cell_type": "code",
   "execution_count": 10,
   "metadata": {},
   "outputs": [
    {
     "data": {
      "text/plain": [
       "<matplotlib.legend.Legend at 0x12f2fbf6898>"
      ]
     },
     "execution_count": 10,
     "metadata": {},
     "output_type": "execute_result"
    },
    {
     "data": {
      "image/png": "[encoded data removed]",
      "text/plain": [
       "<Figure size 432x288 with 1 Axes>"
      ]
     },
     "metadata": {
      "needs_background": "light"
     },
     "output_type": "display_data"
    }
   ],
   "source": [
    "plt.figure(1)  \n",
    "   \n",
    "# summarize history for accuracy  \n",
    "   \n",
    "plt.subplot(211)  \n",
    "plt.plot(history.history['acc'])  \n",
    "plt.plot(history.history['val_acc'])  \n",
    "plt.title('model accuracy')  \n",
    "plt.ylabel('accuracy')  \n",
    "plt.xlabel('epoch')  \n",
    "plt.legend(['train', 'test'], loc='upper left')  "
   ]
  },
  {
   "cell_type": "code",
   "execution_count": 11,
   "metadata": {},
   "outputs": [
    {
     "data": {
      "image/png": "[encoded data removed]",
      "text/plain": [
       "<Figure size 432x288 with 1 Axes>"
      ]
     },
     "metadata": {
      "needs_background": "light"
     },
     "output_type": "display_data"
    }
   ],
   "source": [
    "# summarize history for loss  \n",
    "   \n",
    "plt.subplot(212)  \n",
    "plt.plot(history.history['loss'])  \n",
    "plt.plot(history.history['val_loss'])  \n",
    "plt.title('model loss')  \n",
    "plt.ylabel('loss')  \n",
    "plt.xlabel('epoch')  \n",
    "plt.legend(['train', 'test'], loc='upper left')  \n",
    "plt.show()  "
   ]
  },
  {
   "cell_type": "markdown",
   "metadata": {},
   "source": [
    "**InceptionV3**"
   ]
  },
  {
   "cell_type": "code",
   "execution_count": 12,
   "metadata": {},
   "outputs": [],
   "source": [
    " incv3 = applications.InceptionV3(include_top=False, weights='imagenet')  "
   ]
  },
  {
   "cell_type": "code",
   "execution_count": 13,
   "metadata": {},
   "outputs": [
    {
     "name": "stdout",
     "output_type": "stream",
     "text": [
      "Found 18000 images belonging to 10 classes.\n",
      "1125/1125 [==============================] - 400s 356ms/step\n"
     ]
    }
   ],
   "source": [
    " datagen = ImageDataGenerator(rescale=1. / 255)  \n",
    "   \n",
    " generator = datagen.flow_from_directory(  \n",
    "     train_data_dir,  \n",
    "     target_size=(img_width, img_height),  \n",
    "     batch_size=batch_size,  \n",
    "     class_mode=None,  \n",
    "     shuffle=False)  \n",
    "   \n",
    " nb_train_samples = len(generator.filenames)  \n",
    " num_classes = len(generator.class_indices)  \n",
    "   \n",
    " predict_size_train = int(math.ceil(nb_train_samples / batch_size))  \n",
    "   \n",
    " bottleneck_features_train = incv3.predict_generator(  \n",
    "     generator, predict_size_train, verbose = 1)  \n",
    "   \n",
    " np.save('incv3_bottleneck_features_train.npy', bottleneck_features_train)  "
   ]
  },
  {
   "cell_type": "code",
   "execution_count": 15,
   "metadata": {},
   "outputs": [
    {
     "name": "stdout",
     "output_type": "stream",
     "text": [
      "Found 2000 images belonging to 10 classes.\n",
      "125/125 [==============================] - 40s 316ms/step\n"
     ]
    }
   ],
   "source": [
    "generator = datagen.flow_from_directory(  \n",
    "    test_data_dir,  \n",
    "    target_size=(img_width, img_height),  \n",
    "    batch_size=batch_size,  \n",
    "    class_mode=None,  \n",
    "    shuffle=False)  \n",
    "   \n",
    "nb_test_samples = len(generator.filenames)  \n",
    "   \n",
    "predict_size_test = int(math.ceil(nb_test_samples / batch_size))  \n",
    "   \n",
    "bottleneck_features_test = incv3.predict_generator(  \n",
    "    generator, predict_size_test, verbose = 1)  \n",
    "   \n",
    "np.save('incv3_bottleneck_features_test.npy', bottleneck_features_test)  "
   ]
  },
  {
   "cell_type": "code",
   "execution_count": 16,
   "metadata": {},
   "outputs": [
    {
     "name": "stdout",
     "output_type": "stream",
     "text": [
      "Found 18000 images belonging to 10 classes.\n"
     ]
    }
   ],
   "source": [
    "datagen_top = ImageDataGenerator(rescale=1./255)  \n",
    "generator_top = datagen_top.flow_from_directory(  \n",
    "        train_data_dir,  \n",
    "        target_size=(img_width, img_height),  \n",
    "        batch_size=batch_size,  \n",
    "        class_mode='categorical',  \n",
    "        shuffle=False)  \n",
    "   \n",
    "nb_train_samples = len(generator_top.filenames)  \n",
    "num_classes = len(generator_top.class_indices)  \n",
    "   \n",
    "# load the bottleneck features saved earlier  \n",
    "train_data = np.load('incv3_bottleneck_features_train.npy')  \n",
    "  \n",
    "# get the class lebels for the training data, in the original order  \n",
    "train_labels = generator_top.classes  \n",
    "   \n",
    "# convert the training labels to categorical vectors  \n",
    "train_labels = to_categorical(train_labels, num_classes=num_classes) "
   ]
  },
  {
   "cell_type": "code",
   "execution_count": 17,
   "metadata": {},
   "outputs": [
    {
     "name": "stdout",
     "output_type": "stream",
     "text": [
      "Found 2000 images belonging to 10 classes.\n"
     ]
    }
   ],
   "source": [
    "generator_top = datagen_top.flow_from_directory(  \n",
    "        test_data_dir,  \n",
    "        target_size=(img_width, img_height),  \n",
    "        batch_size=batch_size,  \n",
    "        class_mode=None,  \n",
    "        shuffle=False)  \n",
    "   \n",
    "nb_test_samples = len(generator_top.filenames)  \n",
    "   \n",
    "test_data = np.load('incv3_bottleneck_features_test.npy')  \n",
    "   \n",
    "test_labels = generator_top.classes  \n",
    "test_labels = to_categorical(test_labels, num_classes=num_classes)  "
   ]
  },
  {
   "cell_type": "raw",
   "metadata": {},
   "source": []
  },
  {
   "cell_type": "code",
   "execution_count": 18,
   "metadata": {},
   "outputs": [],
   "source": [
    "idx = np.random.permutation(len(train_data))\n",
    "train_data,train_labels = train_data[idx], train_labels[idx]"
   ]
  },
  {
   "cell_type": "code",
   "execution_count": 19,
   "metadata": {},
   "outputs": [
    {
     "name": "stdout",
     "output_type": "stream",
     "text": [
      "Train on 16200 samples, validate on 1800 samples\n",
      "Epoch 1/20\n",
      "16200/16200 [==============================] - 37s 2ms/step - loss: 0.5410 - acc: 0.9286 - val_loss: 0.0433 - val_acc: 0.9861\n",
      "\n",
      "Epoch 00001: val_loss improved from inf to 0.04327, saving model to C:/Users/a_m_9/OneDrive/Documents/Machine Learning/Capstone/weights.best.from_vgg16.hdf5\n",
      "Epoch 2/20\n",
      "16200/16200 [==============================] - 36s 2ms/step - loss: 0.1453 - acc: 0.9781 - val_loss: 0.1668 - val_acc: 0.9717\n",
      "\n",
      "Epoch 00002: val_loss did not improve from 0.04327\n",
      "Epoch 3/20\n",
      "16200/16200 [==============================] - 37s 2ms/step - loss: 0.0825 - acc: 0.9846 - val_loss: 0.0419 - val_acc: 0.9906\n",
      "\n",
      "Epoch 00003: val_loss improved from 0.04327 to 0.04191, saving model to C:/Users/a_m_9/OneDrive/Documents/Machine Learning/Capstone/weights.best.from_vgg16.hdf5\n",
      "Epoch 4/20\n",
      "16200/16200 [==============================] - 36s 2ms/step - loss: 0.0509 - acc: 0.9870 - val_loss: 0.0181 - val_acc: 0.9894\n",
      "\n",
      "Epoch 00005: val_loss improved from 0.02822 to 0.01813, saving model to C:/Users/a_m_9/OneDrive/Documents/Machine Learning/Capstone/weights.best.from_vgg16.hdf5\n",
      "Epoch 6/20\n",
      "16200/16200 [==============================] - 33s 2ms/step - loss: 0.0485 - acc: 0.9862 - val_loss: 0.0513 - val_acc: 0.9911\n",
      "\n",
      "Epoch 00008: val_loss did not improve from 0.01813\n",
      "Epoch 9/20\n",
      "16200/16200 [==============================] - 32s 2ms/step - loss: 0.0230 - acc: 0.9878 - val_loss: 0.0183 - val_acc: 0.9894\n",
      "\n",
      "Epoch 00013: val_loss did not improve from 0.01522\n",
      "Epoch 14/20\n",
      "16200/16200 [==============================] - 32s 2ms/step - loss: 0.0228 - acc: 0.9883 - val_loss: 0.0133 - val_acc: 0.9928\n",
      "\n",
      "Epoch 00014: val_loss improved from 0.01522 to 0.01329, saving model to C:/Users/a_m_9/OneDrive/Documents/Machine Learning/Capstone/weights.best.from_vgg16.hdf5\n",
      "Epoch 15/20\n",
      "16200/16200 [==============================] - 32s 2ms/step - loss: 0.0283 - acc: 0.9880 - val_loss: 0.0143 - val_acc: 0.9900\n",
      "\n",
      "Epoch 00015: val_loss did not improve from 0.01329\n",
      "Epoch 16/20\n",
      "16200/16200 [==============================] - 32s 2ms/step - loss: 0.0248 - acc: 0.9875 - val_loss: 0.0148 - val_acc: 0.9911\n",
      "\n",
      "Epoch 00016: val_loss did not improve from 0.01329\n",
      "Epoch 17/20\n",
      "16200/16200 [==============================] - 32s 2ms/step - loss: 0.0335 - acc: 0.9861 - val_loss: 0.0143 - val_acc: 0.9894\n",
      "\n",
      "Epoch 00017: val_loss did not improve from 0.01329\n",
      "Epoch 18/20\n",
      "16200/16200 [==============================] - 33s 2ms/step - loss: 0.0240 - acc: 0.9878 - val_loss: 0.0195 - val_acc: 0.9894\n",
      "\n",
      "Epoch 00018: val_loss did not improve from 0.01329\n",
      "Epoch 19/20\n",
      "16200/16200 [==============================] - 32s 2ms/step - loss: 0.0286 - acc: 0.9868 - val_loss: 0.0189 - val_acc: 0.9889\n",
      "\n",
      "Epoch 00019: val_loss did not improve from 0.01329\n",
      "Epoch 20/20\n",
      "16200/16200 [==============================] - 32s 2ms/step - loss: 0.0251 - acc: 0.9887 - val_loss: 0.0203 - val_acc: 0.9911\n",
      "\n",
      "Epoch 00020: val_loss did not improve from 0.01329\n",
      "2000/2000 [==============================] - 0s 208us/step\n",
      "[INFO] accuracy: 73.40%\n",
      "[INFO] Loss: 3.1409873183931714\n"
     ]
    }
   ],
   "source": [
    " incv3_model = Sequential()  \n",
    " incv3_model.add(Flatten(input_shape=train_data.shape[1:]))  \n",
    " incv3_model.add(Dense(512, activation='relu'))  \n",
    " incv3_model.add(Dropout(0.3))  \n",
    " incv3_model.add(Dense(num_classes, activation='softmax'))  \n",
    "   \n",
    " incv3_model.compile(optimizer='rmsprop',  \n",
    "              loss='categorical_crossentropy', metrics=['accuracy'])  \n",
    "   \n",
    "checkpointer = ModelCheckpoint(filepath='C:/Users/a_m_9/OneDrive/Documents/Machine Learning/Capstone/weights.best.from_vgg16.hdf5', \n",
    "                              verbose=1, save_best_only=True)   \n",
    "\n",
    "\n",
    "history = incv3_model.fit(train_data, train_labels,  \n",
    "         epochs=epochs,  \n",
    "         batch_size=batch_size,\n",
    "         callbacks=[checkpointer],\n",
    "         validation_split = 0.1)   \n",
    "   \n",
    " incv3_model.save_weights(top_model_weights_path)  \n",
    "   \n",
    " (test_loss, test_accuracy) = incv3_model.evaluate(  \n",
    "     test_data, test_labels, batch_size=batch_size, verbose=1)\n",
    "\n",
    " print(\"[INFO] accuracy: {:.2f}%\".format(test_accuracy * 100))  \n",
    " print(\"[INFO] Loss: {}\".format(test_loss)) "
   ]
  },
  {
   "cell_type": "code",
   "execution_count": 20,
   "metadata": {},
   "outputs": [
    {
     "data": {
      "text/plain": [
       "<matplotlib.legend.Legend at 0x12f002f21d0>"
      ]
     },
     "execution_count": 20,
     "metadata": {},
     "output_type": "execute_result"
    },
    {
     "data": {
      "image/png": "[encoded data removed]",
      "text/plain": [
       "<Figure size 432x288 with 1 Axes>"
      ]
     },
     "metadata": {
      "needs_background": "light"
     },
     "output_type": "display_data"
    }
   ],
   "source": [
    " plt.figure(1)  \n",
    "   \n",
    " # summarize history for accuracy  \n",
    "   \n",
    " plt.subplot(211)  \n",
    " plt.plot(history.history['acc'])  \n",
    " plt.plot(history.history['val_acc'])  \n",
    " plt.title('model accuracy')  \n",
    " plt.ylabel('accuracy')  \n",
    " plt.xlabel('epoch')  \n",
    " plt.legend(['train', 'test'], loc='upper left') "
   ]
  },
  {
   "cell_type": "code",
   "execution_count": 21,
   "metadata": {},
   "outputs": [
    {
     "data": {
      "image/png": "[encoded data removed]",
      "text/plain": [
       "<Figure size 432x288 with 1 Axes>"
      ]
     },
     "metadata": {
      "needs_background": "light"
     },
     "output_type": "display_data"
    }
   ],
   "source": [
    " # summarize history for loss  \n",
    "   \n",
    " plt.subplot(212)  \n",
    " plt.plot(history.history['loss'])  \n",
    " plt.plot(history.history['val_loss'])  \n",
    " plt.title('model loss')  \n",
    " plt.ylabel('loss')  \n",
    " plt.xlabel('epoch')  \n",
    " plt.legend(['train', 'test'], loc='upper left')  \n",
    " plt.show()  "
   ]
  },
  {
   "cell_type": "markdown",
   "metadata": {},
   "source": [
    "**ResNet50**"
   ]
  },
  {
   "cell_type": "code",
   "execution_count": 22,
   "metadata": {},
   "outputs": [
    {
     "name": "stderr",
     "output_type": "stream",
     "text": [
      "C:\\Users\\a_m_9\\Anaconda3\\lib\\site-packages\\keras_applications\\resnet50.py:265: UserWarning: The output shape of `ResNet50(include_top=False)` has been changed since Keras 2.2.0.\n",
      "  warnings.warn('The output shape of `ResNet50(include_top=False)` '\n"
     ]
    },
    {
     "name": "stdout",
     "output_type": "stream",
     "text": [
      "Downloading data from https://github.com/fchollet/deep-learning-models/releases/download/v0.2/resnet50_weights_tf_dim_ordering_tf_kernels_notop.h5\n",
      "94658560/94653016 [==============================] - 41s 0us/step\n"
     ]
    }
   ],
   "source": [
    "resnet50 = applications.ResNet50(include_top=False, weights='imagenet')  "
   ]
  },
  {
   "cell_type": "code",
   "execution_count": 23,
   "metadata": {},
   "outputs": [
    {
     "name": "stdout",
     "output_type": "stream",
     "text": [
      "Found 18000 images belonging to 10 classes.\n",
      "1125/1125 [==============================] - 927s 824ms/step\n"
     ]
    }
   ],
   "source": [
    "datagen = ImageDataGenerator(rescale=1. / 255)  \n",
    "   \n",
    "generator = datagen.flow_from_directory(  \n",
    "    train_data_dir,  \n",
    "    target_size=(img_width, img_height),  \n",
    "    batch_size=batch_size,  \n",
    "    class_mode=None,  \n",
    "    shuffle=False)  \n",
    "   \n",
    "nb_train_samples = len(generator.filenames)  \n",
    "num_classes = len(generator.class_indices)  \n",
    "   \n",
    "predict_size_train = int(math.ceil(nb_train_samples / batch_size))  \n",
    "   \n",
    "bottleneck_features_train = resnet50.predict_generator(  \n",
    "    generator, predict_size_train, verbose = 1)  \n",
    "   \n",
    "np.save('resnet50_bottleneck_features_train.npy', bottleneck_features_train)  "
   ]
  },
  {
   "cell_type": "code",
   "execution_count": 24,
   "metadata": {
    "scrolled": true
   },
   "outputs": [
    {
     "name": "stdout",
     "output_type": "stream",
     "text": [
      "Found 2000 images belonging to 10 classes.\n",
      "125/125 [==============================] - 106s 844ms/step\n"
     ]
    }
   ],
   "source": [
    "generator = datagen.flow_from_directory(  \n",
    "    test_data_dir,  \n",
    "    target_size=(img_width, img_height),  \n",
    "    batch_size=batch_size,  \n",
    "    class_mode=None,  \n",
    "    shuffle=False)  \n",
    "   \n",
    "nb_test_samples = len(generator.filenames)  \n",
    "   \n",
    "predict_size_test = int(math.ceil(nb_test_samples / batch_size))  \n",
    "   \n",
    "bottleneck_features_test = resnet50.predict_generator(  \n",
    "    generator, predict_size_test, verbose = 1)  \n",
    "   \n",
    "np.save('resnet50_bottleneck_features_test.npy', bottleneck_features_test)  "
   ]
  },
  {
   "cell_type": "code",
   "execution_count": 25,
   "metadata": {},
   "outputs": [
    {
     "name": "stdout",
     "output_type": "stream",
     "text": [
      "Found 18000 images belonging to 10 classes.\n"
     ]
    }
   ],
   "source": [
    "datagen_top = ImageDataGenerator(rescale=1./255)  \n",
    "generator_top = datagen_top.flow_from_directory(  \n",
    "        train_data_dir,  \n",
    "        target_size=(img_width, img_height),  \n",
    "        batch_size=batch_size,  \n",
    "        class_mode='categorical',  \n",
    "        shuffle=False)  \n",
    "   \n",
    "nb_train_samples = len(generator_top.filenames)  \n",
    "num_classes = len(generator_top.class_indices)  \n",
    "   \n",
    "# load the bottleneck features saved earlier  \n",
    "train_data = np.load('resnet50_bottleneck_features_train.npy')  \n",
    "   \n",
    "\n",
    "# get the class lebels for the training data, in the original order  \n",
    "train_labels = generator_top.classes  \n",
    "   \n",
    "# convert the training labels to categorical vectors  \n",
    "train_labels = to_categorical(train_labels, num_classes=num_classes) "
   ]
  },
  {
   "cell_type": "code",
   "execution_count": 26,
   "metadata": {},
   "outputs": [
    {
     "name": "stdout",
     "output_type": "stream",
     "text": [
      "Found 2000 images belonging to 10 classes.\n"
     ]
    }
   ],
   "source": [
    "generator_top = datagen_top.flow_from_directory(  \n",
    "        test_data_dir,  \n",
    "        target_size=(img_width, img_height),  \n",
    "        batch_size=batch_size,  \n",
    "        class_mode=None,  \n",
    "        shuffle=False)  \n",
    "   \n",
    "nb_test_samples = len(generator_top.filenames)  \n",
    "   \n",
    "test_data = np.load('resnet50_bottleneck_features_test.npy')  \n",
    "   \n",
    "test_labels = generator_top.classes  \n",
    "test_labels = to_categorical(test_labels, num_classes=num_classes)  "
   ]
  },
  {
   "cell_type": "code",
   "execution_count": 27,
   "metadata": {},
   "outputs": [],
   "source": [
    "# We shuffle the data so that the validation split is able to represent a truly random sample of the data\n",
    "train_data,train_labels = train_data[idx], train_labels[idx]"
   ]
  },
  {
   "cell_type": "code",
   "execution_count": 28,
   "metadata": {},
   "outputs": [
    {
     "name": "stdout",
     "output_type": "stream",
     "text": [
      "Train on 16200 samples, validate on 1800 samples\n",
      "Epoch 1/20\n",
      "16200/16200 [==============================] - 152s 9ms/step - loss: 1.4667 - acc: 0.5416 - val_loss: 0.5723 - val_acc: 0.8372\n",
      "\n",
      "Epoch 00001: val_loss improved from inf to 0.57226, saving model to C:/Users/a_m_9/OneDrive/Documents/Machine Learning/Capstone/weights.best.from_resnet50.hdf5\n",
      "Epoch 2/20\n",
      "16200/16200 [==============================] - 149s 9ms/step - loss: 0.6094 - acc: 0.7977 - val_loss: 0.2837 - val_acc: 0.9133\n",
      "\n",
      "Epoch 00002: val_loss improved from 0.57226 to 0.28368, saving model to C:/Users/a_m_9/OneDrive/Documents/Machine Learning/Capstone/weights.best.from_resnet50.hdf5\n",
      "Epoch 3/20\n",
      "16200/16200 [==============================] - 148s 9ms/step - loss: 0.4270 - acc: 0.8540 - val_loss: 0.4447 - val_acc: 0.8672\n",
      "\n",
      "Epoch 00003: val_loss did not improve from 0.28368\n",
      "Epoch 4/20\n",
      "16200/16200 [==============================] - 149s 9ms/step - loss: 0.3451 - acc: 0.8805 - val_loss: 0.1981 - val_acc: 0.9206\n",
      "\n",
      "Epoch 00004: val_loss improved from 0.28368 to 0.19809, saving model to C:/Users/a_m_9/OneDrive/Documents/Machine Learning/Capstone/weights.best.from_resnet50.hdf5\n",
      "Epoch 5/20\n",
      "16200/16200 [==============================] - 149s 9ms/step - loss: 0.2925 - acc: 0.8996 - val_loss: 0.1345 - val_acc: 0.9483\n",
      "\n",
      "Epoch 00005: val_loss improved from 0.19809 to 0.13455, saving model to C:/Users/a_m_9/OneDrive/Documents/Machine Learning/Capstone/weights.best.from_resnet50.hdf5\n",
      "Epoch 6/20\n",
      "16200/16200 [==============================] - 149s 9ms/step - loss: 0.2656 - acc: 0.9103 - val_loss: 0.0895 - val_acc: 0.9706\n",
      "\n",
      "Epoch 00006: val_loss improved from 0.13455 to 0.08954, saving model to C:/Users/a_m_9/OneDrive/Documents/Machine Learning/Capstone/weights.best.from_resnet50.hdf5\n",
      "Epoch 7/20\n",
      "16200/16200 [==============================] - 148s 9ms/step - loss: 0.2516 - acc: 0.9120 - val_loss: 0.0936 - val_acc: 0.9600\n",
      "\n",
      "Epoch 00007: val_loss did not improve from 0.08954\n",
      "Epoch 8/20\n",
      "16200/16200 [==============================] - 148s 9ms/step - loss: 0.2341 - acc: 0.9216 - val_loss: 0.0576 - val_acc: 0.9783\n",
      "\n",
      "Epoch 00008: val_loss improved from 0.08954 to 0.05758, saving model to C:/Users/a_m_9/OneDrive/Documents/Machine Learning/Capstone/weights.best.from_resnet50.hdf5\n",
      "Epoch 9/20\n",
      "16200/16200 [==============================] - 149s 9ms/step - loss: 0.2276 - acc: 0.9201 - val_loss: 0.3361 - val_acc: 0.8939\n",
      "\n",
      "Epoch 00009: val_loss did not improve from 0.05758\n",
      "Epoch 10/20\n",
      "16200/16200 [==============================] - 149s 9ms/step - loss: 0.2085 - acc: 0.9305 - val_loss: 0.0593 - val_acc: 0.9772\n",
      "\n",
      "Epoch 00010: val_loss did not improve from 0.05758\n",
      "Epoch 11/20\n",
      "16200/16200 [==============================] - 149s 9ms/step - loss: 0.1984 - acc: 0.9309 - val_loss: 0.0753 - val_acc: 0.9772\n",
      "\n",
      "Epoch 00011: val_loss did not improve from 0.05758\n",
      "Epoch 12/20\n",
      "16200/16200 [==============================] - 149s 9ms/step - loss: 0.1972 - acc: 0.9343 - val_loss: 0.0362 - val_acc: 0.9822\n",
      "\n",
      "Epoch 00012: val_loss improved from 0.05758 to 0.03621, saving model to C:/Users/a_m_9/OneDrive/Documents/Machine Learning/Capstone/weights.best.from_resnet50.hdf5\n",
      "Epoch 13/20\n",
      "16200/16200 [==============================] - 150s 9ms/step - loss: 0.1900 - acc: 0.9363 - val_loss: 0.0509 - val_acc: 0.9772\n",
      "\n",
      "Epoch 00013: val_loss did not improve from 0.03621\n",
      "Epoch 14/20\n",
      "16200/16200 [==============================] - 149s 9ms/step - loss: 0.1823 - acc: 0.9360 - val_loss: 0.0495 - val_acc: 0.9800\n",
      "\n",
      "Epoch 00014: val_loss did not improve from 0.03621\n",
      "Epoch 15/20\n",
      "16200/16200 [==============================] - 149s 9ms/step - loss: 0.1784 - acc: 0.9410 - val_loss: 0.0487 - val_acc: 0.9811\n",
      "\n",
      "Epoch 00015: val_loss did not improve from 0.03621\n",
      "Epoch 16/20\n",
      "16200/16200 [==============================] - 148s 9ms/step - loss: 0.1841 - acc: 0.9400 - val_loss: 0.0306 - val_acc: 0.9889\n",
      "\n",
      "Epoch 00016: val_loss improved from 0.03621 to 0.03059, saving model to C:/Users/a_m_9/OneDrive/Documents/Machine Learning/Capstone/weights.best.from_resnet50.hdf5\n",
      "Epoch 17/20\n",
      "16200/16200 [==============================] - 149s 9ms/step - loss: 0.1678 - acc: 0.9421 - val_loss: 0.0608 - val_acc: 0.9794\n",
      "\n",
      "Epoch 00017: val_loss did not improve from 0.03059\n",
      "Epoch 18/20\n",
      "16200/16200 [==============================] - 150s 9ms/step - loss: 0.1791 - acc: 0.9430 - val_loss: 0.0490 - val_acc: 0.9789\n",
      "\n",
      "Epoch 00018: val_loss did not improve from 0.03059\n",
      "Epoch 19/20\n",
      "16200/16200 [==============================] - 150s 9ms/step - loss: 0.1692 - acc: 0.9448 - val_loss: 0.0472 - val_acc: 0.9844\n",
      "\n",
      "Epoch 00019: val_loss did not improve from 0.03059\n",
      "Epoch 20/20\n",
      "16200/16200 [==============================] - 150s 9ms/step - loss: 0.1737 - acc: 0.9464 - val_loss: 0.0427 - val_acc: 0.9817\n",
      "\n",
      "Epoch 00020: val_loss did not improve from 0.03059\n",
      "2000/2000 [==============================] - 1s 719us/step\n",
      "[INFO] accuracy: 86.15%\n",
      "[INFO] Loss: 0.8845678015865888\n"
     ]
    }
   ],
   "source": [
    "resnet50_model = Sequential()  \n",
    "resnet50_model.add(Flatten(input_shape=train_data.shape[1:]))  \n",
    "resnet50_model.add(Dense(512, activation='relu'))  \n",
    "resnet50_model.add(Dropout(0.3))  \n",
    "resnet50_model.add(Dense(num_classes, activation='softmax'))  \n",
    "   \n",
    "resnet50_model.compile(optimizer='rmsprop',  \n",
    "             loss='categorical_crossentropy', metrics=['accuracy'])  \n",
    " \n",
    "checkpointer = ModelCheckpoint(filepath='C:/Users/a_m_9/OneDrive/Documents/Machine Learning/Capstone/weights.best.from_resnet50.hdf5', \n",
    "                              verbose=1, save_best_only=True)   \n",
    "    \n",
    "history = resnet50_model.fit(train_data, train_labels,  \n",
    "         epochs=epochs,  \n",
    "         batch_size=batch_size,\n",
    "         callbacks=[checkpointer],\n",
    "         validation_split = 0.1)  \n",
    "  \n",
    "resnet50_model.save_weights(top_model_weights_path)  \n",
    "   \n",
    "(test_loss, test_accuracy) = resnet50_model.evaluate(  \n",
    "    test_data, test_labels, batch_size=batch_size, verbose=1)\n",
    "\n",
    "print(\"[INFO] accuracy: {:.2f}%\".format(test_accuracy * 100))  \n",
    "print(\"[INFO] Loss: {}\".format(test_loss))  "
   ]
  },
  {
   "cell_type": "code",
   "execution_count": 29,
   "metadata": {},
   "outputs": [
    {
     "data": {
      "text/plain": [
       "<matplotlib.legend.Legend at 0x12f59e2be10>"
      ]
     },
     "execution_count": 29,
     "metadata": {},
     "output_type": "execute_result"
    },
    {
     "data": {
      "image/png": "[encoded data removed]",
      "text/plain": [
       "<Figure size 432x288 with 1 Axes>"
      ]
     },
     "metadata": {
      "needs_background": "light"
     },
     "output_type": "display_data"
    }
   ],
   "source": [
    " plt.figure(1)  \n",
    "   \n",
    " # summarize history for accuracy  \n",
    "   \n",
    " plt.subplot(211)  \n",
    " plt.plot(history.history['acc'])  \n",
    " plt.plot(history.history['val_acc'])  \n",
    " plt.title('model accuracy')  \n",
    " plt.ylabel('accuracy')  \n",
    " plt.xlabel('epoch')  \n",
    " plt.legend(['train', 'test'], loc='upper left')  "
   ]
  },
  {
   "cell_type": "code",
   "execution_count": 30,
   "metadata": {},
   "outputs": [
    {
     "data": {
      "image/png": "[encoded data removed]",
      "text/plain": [
       "<Figure size 432x288 with 1 Axes>"
      ]
     },
     "metadata": {
      "needs_background": "light"
     },
     "output_type": "display_data"
    }
   ],
   "source": [
    " # summarize history for loss  \n",
    "   \n",
    " plt.subplot(212)  \n",
    " plt.plot(history.history['loss'])  \n",
    " plt.plot(history.history['val_loss'])  \n",
    " plt.title('model loss')  \n",
    " plt.ylabel('loss')  \n",
    " plt.xlabel('epoch')  \n",
    " plt.legend(['train', 'test'], loc='upper left')  \n",
    " plt.show()  "
   ]
  },
  {
   "cell_type": "markdown",
   "metadata": {},
   "source": [
    "**Xception**"
   ]
  },
  {
   "cell_type": "code",
   "execution_count": 31,
   "metadata": {},
   "outputs": [
    {
     "name": "stdout",
     "output_type": "stream",
     "text": [
      "Downloading data from https://github.com/fchollet/deep-learning-models/releases/download/v0.4/xception_weights_tf_dim_ordering_tf_kernels_notop.h5\n",
      "83689472/83683744 [==============================] - 33s 0us/step\n"
     ]
    }
   ],
   "source": [
    "xception = applications.Xception(include_top=False, weights='imagenet')  "
   ]
  },
  {
   "cell_type": "code",
   "execution_count": 32,
   "metadata": {},
   "outputs": [
    {
     "name": "stdout",
     "output_type": "stream",
     "text": [
      "Found 18000 images belonging to 10 classes.\n",
      "1125/1125 [==============================] - 933s 829ms/step\n"
     ]
    }
   ],
   "source": [
    "datagen = ImageDataGenerator(rescale=1. / 255)  \n",
    "   \n",
    "generator = datagen.flow_from_directory(  \n",
    "    train_data_dir,  \n",
    "    target_size=(img_width, img_height),  \n",
    "    batch_size=batch_size,  \n",
    "    class_mode=None,  \n",
    "    shuffle=False)  \n",
    "   \n",
    "nb_train_samples = len(generator.filenames)  \n",
    "num_classes = len(generator.class_indices)  \n",
    "   \n",
    "predict_size_train = int(math.ceil(nb_train_samples / batch_size))  \n",
    "   \n",
    "bottleneck_features_train = xception.predict_generator(  \n",
    "    generator, predict_size_train, verbose = 1)  \n",
    "   \n",
    "np.save('xception_bottleneck_features_train.npy', bottleneck_features_train)"
   ]
  },
  {
   "cell_type": "code",
   "execution_count": 33,
   "metadata": {},
   "outputs": [
    {
     "name": "stdout",
     "output_type": "stream",
     "text": [
      "Found 2000 images belonging to 10 classes.\n",
      "125/125 [==============================] - 98s 783ms/step\n"
     ]
    }
   ],
   "source": [
    "generator = datagen.flow_from_directory(  \n",
    "    test_data_dir,  \n",
    "    target_size=(img_width, img_height),  \n",
    "    batch_size=batch_size,  \n",
    "    class_mode=None,  \n",
    "    shuffle=False)  \n",
    "   \n",
    "nb_test_samples = len(generator.filenames)  \n",
    "   \n",
    "predict_size_test = int(math.ceil(nb_test_samples / batch_size))  \n",
    "   \n",
    "bottleneck_features_test = xception.predict_generator(  \n",
    "    generator, predict_size_test, verbose = 1)  \n",
    "   \n",
    "np.save('xception_bottleneck_features_test.npy', bottleneck_features_test)  "
   ]
  },
  {
   "cell_type": "code",
   "execution_count": 34,
   "metadata": {},
   "outputs": [
    {
     "name": "stdout",
     "output_type": "stream",
     "text": [
      "Found 18000 images belonging to 10 classes.\n"
     ]
    }
   ],
   "source": [
    "datagen_top = ImageDataGenerator(rescale=1./255)  \n",
    "generator_top = datagen_top.flow_from_directory(  \n",
    "        train_data_dir,  \n",
    "        target_size=(img_width, img_height),  \n",
    "        batch_size=batch_size,  \n",
    "        class_mode='categorical',  \n",
    "        shuffle=False)  \n",
    "   \n",
    "nb_train_samples = len(generator_top.filenames)  \n",
    "num_classes = len(generator_top.class_indices)  \n",
    "   \n",
    "# load the bottleneck features saved earlier  \n",
    "train_data = np.load('xception_bottleneck_features_train.npy')  \n",
    "   \n",
    "\n",
    "# get the class lebels for the training data, in the original order  \n",
    "train_labels = generator_top.classes  \n",
    "   \n",
    "# convert the training labels to categorical vectors  \n",
    "train_labels = to_categorical(train_labels, num_classes=num_classes) "
   ]
  },
  {
   "cell_type": "code",
   "execution_count": 35,
   "metadata": {},
   "outputs": [
    {
     "name": "stdout",
     "output_type": "stream",
     "text": [
      "Found 2000 images belonging to 10 classes.\n"
     ]
    }
   ],
   "source": [
    "generator_top = datagen_top.flow_from_directory(  \n",
    "        test_data_dir,  \n",
    "        target_size=(img_width, img_height),  \n",
    "        batch_size=batch_size,  \n",
    "        class_mode=None,  \n",
    "        shuffle=False)  \n",
    "   \n",
    "nb_test_samples = len(generator_top.filenames)  \n",
    "   \n",
    "test_data = np.load('xception_bottleneck_features_test.npy')  \n",
    "   \n",
    "test_labels = generator_top.classes  \n",
    "test_labels = to_categorical(test_labels, num_classes=num_classes)  "
   ]
  },
  {
   "cell_type": "code",
   "execution_count": 37,
   "metadata": {},
   "outputs": [],
   "source": [
    "# We shuffle the data so that the validation split is able to represent a truly random sample of the data\n",
    "train_data,train_labels = train_data[idx], train_labels[idx]"
   ]
  },
  {
   "cell_type": "code",
   "execution_count": 38,
   "metadata": {},
   "outputs": [
    {
     "name": "stdout",
     "output_type": "stream",
     "text": [
      "Train on 16200 samples, validate on 1800 samples\n",
      "Epoch 1/20\n",
      "16200/16200 [==============================] - 152s 9ms/step - loss: 4.2272 - acc: 0.7208 - val_loss: 1.9519 - val_acc: 0.8761\n",
      "\n",
      "Epoch 00001: val_loss improved from inf to 1.95188, saving model to C:/Users/a_m_9/OneDrive/Documents/Machine Learning/Capstone/weights.best.from_xception.hdf5\n",
      "Epoch 2/20\n",
      "16200/16200 [==============================] - 150s 9ms/step - loss: 2.0625 - acc: 0.8674 - val_loss: 1.8955 - val_acc: 0.8811\n",
      "\n",
      "Epoch 00002: val_loss improved from 1.95188 to 1.89548, saving model to C:/Users/a_m_9/OneDrive/Documents/Machine Learning/Capstone/weights.best.from_xception.hdf5\n",
      "Epoch 3/20\n",
      "16200/16200 [==============================] - 151s 9ms/step - loss: 1.9361 - acc: 0.8769 - val_loss: 1.8811 - val_acc: 0.8828\n",
      "\n",
      "Epoch 00003: val_loss improved from 1.89548 to 1.88115, saving model to C:/Users/a_m_9/OneDrive/Documents/Machine Learning/Capstone/weights.best.from_xception.hdf5\n",
      "Epoch 4/20\n",
      "16200/16200 [==============================] - 150s 9ms/step - loss: 1.9078 - acc: 0.8798 - val_loss: 1.8748 - val_acc: 0.8822\n",
      "\n",
      "Epoch 00004: val_loss improved from 1.88115 to 1.87485, saving model to C:/Users/a_m_9/OneDrive/Documents/Machine Learning/Capstone/weights.best.from_xception.hdf5\n",
      "Epoch 5/20\n",
      "16200/16200 [==============================] - 151s 9ms/step - loss: 1.8356 - acc: 0.8848 - val_loss: 1.8626 - val_acc: 0.8844\n",
      "\n",
      "Epoch 00005: val_loss improved from 1.87485 to 1.86256, saving model to C:/Users/a_m_9/OneDrive/Documents/Machine Learning/Capstone/weights.best.from_xception.hdf5\n",
      "Epoch 6/20\n",
      "16200/16200 [==============================] - 151s 9ms/step - loss: 1.8301 - acc: 0.8854 - val_loss: 1.8563 - val_acc: 0.8844\n",
      "\n",
      "Epoch 00006: val_loss improved from 1.86256 to 1.85631, saving model to C:/Users/a_m_9/OneDrive/Documents/Machine Learning/Capstone/weights.best.from_xception.hdf5\n",
      "Epoch 7/20\n",
      "16200/16200 [==============================] - 151s 9ms/step - loss: 1.8268 - acc: 0.8860 - val_loss: 1.8622 - val_acc: 0.8844\n",
      "\n",
      "Epoch 00007: val_loss did not improve from 1.85631\n",
      "Epoch 8/20\n",
      "16200/16200 [==============================] - 151s 9ms/step - loss: 1.8082 - acc: 0.8869 - val_loss: 1.8536 - val_acc: 0.8850\n",
      "\n",
      "Epoch 00008: val_loss improved from 1.85631 to 1.85360, saving model to C:/Users/a_m_9/OneDrive/Documents/Machine Learning/Capstone/weights.best.from_xception.hdf5\n",
      "Epoch 9/20\n",
      "16200/16200 [==============================] - 152s 9ms/step - loss: 1.8137 - acc: 0.8867 - val_loss: 1.8507 - val_acc: 0.8850\n",
      "\n",
      "Epoch 00009: val_loss improved from 1.85360 to 1.85068, saving model to C:/Users/a_m_9/OneDrive/Documents/Machine Learning/Capstone/weights.best.from_xception.hdf5\n",
      "Epoch 10/20\n",
      "16200/16200 [==============================] - 152s 9ms/step - loss: 1.8068 - acc: 0.8874 - val_loss: 1.8536 - val_acc: 0.8850\n",
      "\n",
      "Epoch 00010: val_loss did not improve from 1.85068\n",
      "Epoch 11/20\n",
      "16200/16200 [==============================] - 152s 9ms/step - loss: 1.8057 - acc: 0.8875 - val_loss: 1.8536 - val_acc: 0.8850\n",
      "\n",
      "Epoch 00011: val_loss did not improve from 1.85068\n",
      "Epoch 12/20\n",
      "16200/16200 [==============================] - 152s 9ms/step - loss: 1.8127 - acc: 0.8869 - val_loss: 1.8543 - val_acc: 0.8844\n",
      "\n",
      "Epoch 00012: val_loss did not improve from 1.85068\n",
      "Epoch 13/20\n",
      "16200/16200 [==============================] - 152s 9ms/step - loss: 1.8148 - acc: 0.8869 - val_loss: 1.8625 - val_acc: 0.8844\n",
      "\n",
      "Epoch 00013: val_loss did not improve from 1.85068\n",
      "Epoch 14/20\n",
      "16200/16200 [==============================] - 152s 9ms/step - loss: 1.8082 - acc: 0.8874 - val_loss: 1.8536 - val_acc: 0.8850\n",
      "\n",
      "Epoch 00014: val_loss did not improve from 1.85068\n",
      "Epoch 15/20\n",
      "16200/16200 [==============================] - 152s 9ms/step - loss: 1.7988 - acc: 0.8881 - val_loss: 1.8446 - val_acc: 0.8856\n",
      "\n",
      "Epoch 00015: val_loss improved from 1.85068 to 1.84463, saving model to C:/Users/a_m_9/OneDrive/Documents/Machine Learning/Capstone/weights.best.from_xception.hdf5\n",
      "Epoch 16/20\n",
      "16200/16200 [==============================] - 152s 9ms/step - loss: 1.8013 - acc: 0.8879 - val_loss: 1.8536 - val_acc: 0.8850\n",
      "\n",
      "Epoch 00016: val_loss did not improve from 1.84463\n",
      "Epoch 17/20\n",
      "16200/16200 [==============================] - 152s 9ms/step - loss: 1.7926 - acc: 0.8885 - val_loss: 1.8612 - val_acc: 0.8844\n",
      "\n",
      "Epoch 00017: val_loss did not improve from 1.84463\n",
      "Epoch 18/20\n",
      "16200/16200 [==============================] - 152s 9ms/step - loss: 1.7946 - acc: 0.8883 - val_loss: 1.8625 - val_acc: 0.8844\n",
      "\n",
      "Epoch 00018: val_loss did not improve from 1.84463\n",
      "Epoch 19/20\n",
      "16200/16200 [==============================] - 151s 9ms/step - loss: 1.7944 - acc: 0.8886 - val_loss: 1.8715 - val_acc: 0.8839\n",
      "\n",
      "Epoch 00019: val_loss did not improve from 1.84463\n",
      "Epoch 20/20\n",
      "16200/16200 [==============================] - 150s 9ms/step - loss: 1.7981 - acc: 0.8880 - val_loss: 1.8446 - val_acc: 0.8856\n",
      "\n",
      "Epoch 00020: val_loss improved from 1.84463 to 1.84463, saving model to C:/Users/a_m_9/OneDrive/Documents/Machine Learning/Capstone/weights.best.from_xception.hdf5\n",
      "2000/2000 [==============================] - 1s 694us/step\n",
      "[INFO] accuracy: 82.30%\n",
      "[INFO] Loss: 2.717022697078007\n"
     ]
    }
   ],
   "source": [
    "xception_model = Sequential()  \n",
    "xception_model.add(Flatten(input_shape=train_data.shape[1:]))  \n",
    "xception_model.add(Dense(512, activation='relu'))  \n",
    "xception_model.add(Dropout(0.3))  \n",
    "xception_model.add(Dense(num_classes, activation='softmax'))  \n",
    "   \n",
    "xception_model.compile(optimizer='rmsprop',  \n",
    "             loss='categorical_crossentropy', metrics=['accuracy'])  \n",
    " \n",
    "checkpointer = ModelCheckpoint(filepath='C:/Users/a_m_9/OneDrive/Documents/Machine Learning/Capstone/weights.best.from_xception.hdf5', \n",
    "                              verbose=1, save_best_only=True)   \n",
    "    \n",
    "history = xception_model.fit(train_data, train_labels,  \n",
    "         epochs=epochs,  \n",
    "         batch_size=batch_size,\n",
    "         callbacks=[checkpointer],\n",
    "         validation_split = 0.1)  \n",
    "  \n",
    "xception_model.save_weights(top_model_weights_path)  \n",
    "   \n",
    "(test_loss, test_accuracy) = xception_model.evaluate(  \n",
    "    test_data, test_labels, batch_size=batch_size, verbose=1)\n",
    "\n",
    "print(\"[INFO] accuracy: {:.2f}%\".format(test_accuracy * 100))  \n",
    "print(\"[INFO] Loss: {}\".format(test_loss))  "
   ]
  },
  {
   "cell_type": "code",
   "execution_count": 256,
   "metadata": {},
   "outputs": [],
   "source": [
    "from keras.preprocessing import image \n",
    "from keras.applications.vgg16 import VGG16, preprocess_input"
   ]
  },
  {
   "cell_type": "code",
   "execution_count": 321,
   "metadata": {},
   "outputs": [
    {
     "name": "stdout",
     "output_type": "stream",
     "text": [
      "This gesture is a c\n"
     ]
    },
    {
     "data": {
      "image/png": "[encoded data removed]",
      "text/plain": [
       "<Figure size 432x288 with 1 Axes>"
      ]
     },
     "metadata": {
      "needs_background": "light"
     },
     "output_type": "display_data"
    }
   ],
   "source": [
    "# Testing the model on random images\n",
    "\n",
    "from skimage import color\n",
    "from skimage import io\n",
    "\n",
    "gestures = ['c', 'down', 'fist', 'fist_moved', 'index', 'l', 'ok', 'palm', 'palm_moved', 'thumb']\n",
    "gesture = \"\"\n",
    "\n",
    "img = image.load_img('C:/Users/a_m_9/OneDrive/Documents/Machine Learning/Capstone/Practical Test/grayscale7.png', target_size = (150,75))\n",
    "img_array = image.img_to_array(img)\n",
    "plt.imshow(img)\n",
    "img_array = np.expand_dims(img_array, axis=0)    \n",
    "    \n",
    "bottleneck_feature = VGG16(weights='imagenet', include_top=False).predict(preprocess_input(img_array))\n",
    "   \n",
    "gesture = vgg16_model.predict(bottleneck_feature)\n",
    "index_max = np.argmax(gesture)\n",
    "gesture = gestures[index_max]\n",
    "print(\"This gesture is a\", gesture)  "
   ]
  },
  {
   "cell_type": "code",
   "execution_count": 311,
   "metadata": {},
   "outputs": [],
   "source": [
    "def gesture_classification(img_path):\n",
    "    img = cv2.imread(img_path)\n",
    "    img = cv2.resize(img, (150,75))\n",
    "    plt.imshow(img)\n",
    "    img_array = np.array(img)\n",
    "    img_array = np.expand_dims(img_array, axis = 0)  \n",
    "    print(img_array.shape)\n",
    "    \n",
    "    bottleneck_feature = VGG16(weights='imagenet', include_top=False).predict(preprocess_input(img_array))\n",
    "   \n",
    "    gesture = vgg16_model.predict(bottleneck_feature)\n",
    "    index_max = np.argmax(gesture)\n",
    "    gesture = gestures[index_max]\n",
    "    print(\"This gesture is a\", gesture)  "
   ]
  },
  {
   "cell_type": "code",
   "execution_count": 253,
   "metadata": {},
   "outputs": [],
   "source": [
    "import os\n",
    "\n",
    "directory = 'C:/Users/a_m_9/OneDrive/Documents/Machine Learning/Capstone/Practical Test/'\n",
    "imagesList = os.listdir(directory)\n",
    "\n",
    "i=1\n",
    "for image in imagesList:\n",
    "    path = directory+image\n",
    "    img = Image.open(path).convert('LA')\n",
    "    img.save('grayscale%s.png' % i)\n",
    "    i+=1"
   ]
  }
 ],
 "metadata": {
  "kernelspec": {
   "display_name": "Python 3",
   "language": "python",
   "name": "python3"
  },
  "language_info": {
   "codemirror_mode": {
    "name": "ipython",
    "version": 3
   },
   "file_extension": ".py",
   "mimetype": "text/x-python",
   "name": "python",
   "nbconvert_exporter": "python",
   "pygments_lexer": "ipython3",
   "version": "3.7.3"
  }
 },
 "nbformat": 4,
 "nbformat_minor": 2
}
